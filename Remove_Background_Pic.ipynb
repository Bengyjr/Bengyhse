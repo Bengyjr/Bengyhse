{
  "nbformat": 4,
  "nbformat_minor": 0,
  "metadata": {
    "colab": {
      "provenance": [],
      "mount_file_id": "1bJtymvytyFa_axFCnjOkKbp2bKtCSUSJ",
      "authorship_tag": "ABX9TyPCiPmxoGlNQmI00v0tDAtw",
      "include_colab_link": true
    },
    "kernelspec": {
      "name": "python3",
      "display_name": "Python 3"
    },
    "language_info": {
      "name": "python"
    }
  },
  "cells": [
    {
      "cell_type": "markdown",
      "metadata": {
        "id": "view-in-github",
        "colab_type": "text"
      },
      "source": [
        "<a href=\"https://colab.research.google.com/github/Bengyjr/Bengyhse/blob/main/Remove_Background_Pic.ipynb\" target=\"_parent\"><img src=\"https://colab.research.google.com/assets/colab-badge.svg\" alt=\"Open In Colab\"/></a>"
      ]
    },
    {
      "cell_type": "code",
      "execution_count": null,
      "metadata": {
        "colab": {
          "base_uri": "https://localhost:8080/"
        },
        "id": "lxkBLvpxQaWX",
        "outputId": "2387cc1c-147c-44d4-b3d3-cb42cfd08808"
      },
      "outputs": [
        {
          "output_type": "stream",
          "name": "stdout",
          "text": [
            "Drive already mounted at /content/drive; to attempt to forcibly remount, call drive.mount(\"/content/drive\", force_remount=True).\n"
          ]
        }
      ],
      "source": [
        "from google.colab import drive\n",
        "drive.mount('/content/drive')"
      ]
    },
    {
      "cell_type": "code",
      "source": [
        "%cd /content/drive/MyDrive/'Kaggle Work'/'Kaggle Competition'"
      ],
      "metadata": {
        "colab": {
          "base_uri": "https://localhost:8080/"
        },
        "id": "XsTrdB7AQ3KW",
        "outputId": "1fbb1820-9d88-44fe-ed4d-caffe07bcae3"
      },
      "execution_count": null,
      "outputs": [
        {
          "output_type": "stream",
          "name": "stdout",
          "text": [
            "/content/drive/MyDrive/Kaggle Work/Kaggle Competition\n"
          ]
        }
      ]
    },
    {
      "cell_type": "code",
      "source": [
        "ls"
      ],
      "metadata": {
        "colab": {
          "base_uri": "https://localhost:8080/"
        },
        "id": "blI0Z7mJTObU",
        "outputId": "d2e9ae13-ce6f-42a7-eb38-b2ef42b3ffa8"
      },
      "execution_count": null,
      "outputs": [
        {
          "output_type": "stream",
          "name": "stdout",
          "text": [
            " FB_IMG_1692706437956.jpg  \u001b[0m\u001b[01;34m'Titanic Dataset'\u001b[0m/\n"
          ]
        }
      ]
    },
    {
      "cell_type": "code",
      "source": [
        "import matplotlib.pyplot as plt\n",
        "\n",
        "%matplotlib inline"
      ],
      "metadata": {
        "id": "CvaM6CqPZpTM"
      },
      "execution_count": null,
      "outputs": []
    },
    {
      "cell_type": "code",
      "source": [
        "from rembg import remove\n",
        "\n",
        "from PIL import Image\n",
        "\n",
        "#read the image\n",
        "im = Image.open(\"FB_IMG_1692706437956.jpg\")\n",
        "\n",
        "mask = remove(im)\n",
        "mask.save('fbMOTM.png')\n"
      ],
      "metadata": {
        "id": "bnSoH827ZEb7"
      },
      "execution_count": null,
      "outputs": []
    },
    {
      "cell_type": "code",
      "source": [
        "bg = Image.open(\"MOTM-AUG-Winner.png\")\n",
        "output = Image.composite(im, bg, mask)\n",
        "output.save(\"newMOTM.png\")"
      ],
      "metadata": {
        "id": "aCguiWxzkcBO"
      },
      "execution_count": null,
      "outputs": []
    }
  ]
}