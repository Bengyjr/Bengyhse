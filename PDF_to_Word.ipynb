{
  "nbformat": 4,
  "nbformat_minor": 0,
  "metadata": {
    "colab": {
      "provenance": [],
      "authorship_tag": "ABX9TyOh7FnWXSo/H/gxVAE4l30n",
      "include_colab_link": true
    },
    "kernelspec": {
      "name": "python3",
      "display_name": "Python 3"
    },
    "language_info": {
      "name": "python"
    }
  },
  "cells": [
    {
      "cell_type": "markdown",
      "metadata": {
        "id": "view-in-github",
        "colab_type": "text"
      },
      "source": [
        "<a href=\"https://colab.research.google.com/github/Bengyjr/Bengyhse/blob/main/PDF_to_Word.ipynb\" target=\"_parent\"><img src=\"https://colab.research.google.com/assets/colab-badge.svg\" alt=\"Open In Colab\"/></a>"
      ]
    },
    {
      "cell_type": "code",
      "execution_count": 1,
      "metadata": {
        "colab": {
          "base_uri": "https://localhost:8080/"
        },
        "id": "2jo9Kq4YAWFh",
        "outputId": "fd0ebda7-4c0d-48ad-e6b9-fa1b4162f8a5"
      },
      "outputs": [
        {
          "output_type": "stream",
          "name": "stdout",
          "text": [
            "Mounted at /content/drive\n"
          ]
        }
      ],
      "source": [
        "from google.colab import drive\n",
        "drive.mount('/content/drive')"
      ]
    },
    {
      "cell_type": "code",
      "source": [
        "%cd /content/drive/MyDrive/'Kaggle Work'"
      ],
      "metadata": {
        "colab": {
          "base_uri": "https://localhost:8080/"
        },
        "id": "12U3zxHaAswl",
        "outputId": "ce921440-6223-4221-8295-e3109e79b193"
      },
      "execution_count": 2,
      "outputs": [
        {
          "output_type": "stream",
          "name": "stdout",
          "text": [
            "/content/drive/MyDrive/Kaggle Work\n"
          ]
        }
      ]
    },
    {
      "cell_type": "code",
      "source": [
        "# pip install pdf2docx"
      ],
      "metadata": {
        "id": "YN1kgChQA3F3"
      },
      "execution_count": null,
      "outputs": []
    },
    {
      "cell_type": "code",
      "source": [
        "from pdf2docx import converter"
      ],
      "metadata": {
        "id": "sW328JknBPog"
      },
      "execution_count": 7,
      "outputs": []
    },
    {
      "cell_type": "code",
      "source": [
        "from pdf2docx.main import Converter\n",
        "pdf_file = './Data/Book of James.pdf'\n",
        "docx_file = './Data/Book of James.docx'\n",
        "cv = Converter(pdf_file)\n",
        "cv.convert(docx_file)\n",
        "cv.close()"
      ],
      "metadata": {
        "id": "QEG8clUUB2Oh"
      },
      "execution_count": 11,
      "outputs": []
    },
    {
      "cell_type": "code",
      "source": [],
      "metadata": {
        "id": "s960yvEhCWyb"
      },
      "execution_count": null,
      "outputs": []
    }
  ]
}